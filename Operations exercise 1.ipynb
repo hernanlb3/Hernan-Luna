{
 "cells": [
  {
   "cell_type": "code",
   "execution_count": 3,
   "metadata": {},
   "outputs": [
    {
     "name": "stdout",
     "output_type": "stream",
     "text": [
      "give me the median of this ages\n",
      "10\n",
      "10\n",
      "10\n",
      "the media is 10.0 years old\n"
     ]
    }
   ],
   "source": [
    "print(\"give me the median of this ages\")\n",
    "age_a = int(input())\n",
    "age_b = int(input())\n",
    "age_c = int(input())\n",
    "#here we use a variables int because the ages need to be used in operation.\n",
    "media = (age_a + age_b + age_c) / 3\n",
    "#in the line upside we can see an operation with the variables and divides in 3 to calculate the media of the ages. \n",
    "#the variable media is inside of () because python rocognizes the order of the operations.\n",
    "\n",
    "print(f\"the media is {media} years old\")"
   ]
  },
  {
   "cell_type": "code",
   "execution_count": null,
   "metadata": {},
   "outputs": [],
   "source": []
  },
  {
   "cell_type": "code",
   "execution_count": null,
   "metadata": {},
   "outputs": [],
   "source": []
  }
 ],
 "metadata": {
  "kernelspec": {
   "display_name": "Python 3",
   "language": "python",
   "name": "python3"
  },
  "language_info": {
   "codemirror_mode": {
    "name": "ipython",
    "version": 3
   },
   "file_extension": ".py",
   "mimetype": "text/x-python",
   "name": "python",
   "nbconvert_exporter": "python",
   "pygments_lexer": "ipython3",
   "version": "3.7.3"
  }
 },
 "nbformat": 4,
 "nbformat_minor": 2
}
