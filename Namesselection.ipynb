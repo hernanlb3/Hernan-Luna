{
 "cells": [
  {
   "cell_type": "code",
   "execution_count": 1,
   "metadata": {},
   "outputs": [
    {
     "name": "stdout",
     "output_type": "stream",
     "text": [
      "how much names do you want to print 3\n",
      "introduce your name Martin\n",
      "introduce your name Dulce\n",
      "introduce your name Jacinto\n",
      "what name do you want?: 2\n",
      "Jacinto\n"
     ]
    }
   ],
   "source": [
    "values = int(input(\"how much names do you want to print \"))\n",
    "names  = []\n",
    "total  = 0\n",
    "\n",
    "for i in range(0, values):\n",
    "    N= input(\"introduce your name \")\n",
    "    names.append(N)\n",
    "    \n",
    "your_names = int(input(\"what name do you want?: \"))\n",
    "    \n",
    "if your_names < values:\n",
    "        print(names[your_names])\n",
    "        \n",
    "else:\n",
    "        print(\"it´s not valid\")\n",
    "        "
   ]
  },
  {
   "cell_type": "code",
   "execution_count": null,
   "metadata": {},
   "outputs": [],
   "source": []
  },
  {
   "cell_type": "code",
   "execution_count": null,
   "metadata": {},
   "outputs": [],
   "source": []
  },
  {
   "cell_type": "code",
   "execution_count": null,
   "metadata": {},
   "outputs": [],
   "source": []
  }
 ],
 "metadata": {
  "kernelspec": {
   "display_name": "Python 3",
   "language": "python",
   "name": "python3"
  },
  "language_info": {
   "codemirror_mode": {
    "name": "ipython",
    "version": 3
   },
   "file_extension": ".py",
   "mimetype": "text/x-python",
   "name": "python",
   "nbconvert_exporter": "python",
   "pygments_lexer": "ipython3",
   "version": "3.7.3"
  }
 },
 "nbformat": 4,
 "nbformat_minor": 2
}
