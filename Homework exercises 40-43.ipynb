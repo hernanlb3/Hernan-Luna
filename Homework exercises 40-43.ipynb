{
 "cells": [
  {
   "cell_type": "markdown",
   "metadata": {},
   "source": [
    "# Exercise 40\n",
    "\n",
    "#### Modules, Classes, and Objects\n",
    "There is a construct in Python called a class that lets you structure your software in a particular way. Using classes, you can add consistency to your programs so that they can be used in a cleaner way. At least that’s the theory. The book going to teach us you the beginnings of object-oriented programming, classes, and objects using what we already know about dictionaries and modules.\n",
    "\n",
    "Modules Are Like Dictionaries\n",
    "You know how a dictionary is created and used and that it is a way to map one thing to another. That means if you have a dictionary with a key ”apple” and you want to get it then you do this:"
   ]
  },
  {
   "cell_type": "code",
   "execution_count": null,
   "metadata": {},
   "outputs": [],
   "source": [
    "1 mystuff = {'apple': \"I AM APPLES!\"}\n",
    "2 print(mystuff['apple'])\n"
   ]
  },
  {
   "cell_type": "markdown",
   "metadata": {},
   "source": [
    "The modules are:\n",
    "\n",
    "        A Python file with some functions or variables in it.. \n",
    "        You import that file.\n",
    "        And you can access the functions or variables in that module with the.(dot) operator.\n",
    "\n",
    "Imagine I have a module that I decide to name mystuff.pyand I put a function in it called apple. Here’s the module mystuff.py"
   ]
  },
  {
   "cell_type": "code",
   "execution_count": null,
   "metadata": {},
   "outputs": [],
   "source": [
    "1 # this goes in mystuff.py\n",
    "2 def apple():\n",
    "3 print(\"I AM APPLES!\")"
   ]
  },
  {
   "cell_type": "markdown",
   "metadata": {},
   "source": [
    "Once I have this code, I can use the module MyStuff with import and then access the apple function: "
   ]
  },
  {
   "cell_type": "code",
   "execution_count": null,
   "metadata": {},
   "outputs": [],
   "source": [
    "1 import mystuff \n",
    "2 mystuff.apple()"
   ]
  },
  {
   "cell_type": "code",
   "execution_count": null,
   "metadata": {},
   "outputs": [],
   "source": [
    "I could also put a variable in it named tangerine:"
   ]
  },
  {
   "cell_type": "code",
   "execution_count": null,
   "metadata": {},
   "outputs": [],
   "source": [
    "1 def apple(): \n",
    "2 print(\"I AM APPLES!\")\n",
    "3\n",
    "4 # this is just a variable\n",
    "5tangerine = \"Living reflection of a dream\""
   ]
  },
  {
   "cell_type": "code",
   "execution_count": null,
   "metadata": {},
   "outputs": [],
   "source": [
    "I can access that the same way:"
   ]
  },
  {
   "cell_type": "code",
   "execution_count": null,
   "metadata": {},
   "outputs": [],
   "source": [
    "1 import mystuff\n",
    "2 \n",
    "3 mystuff.apple()\n",
    "4 print(mystuff.tangerine)"
   ]
  },
  {
   "cell_type": "markdown",
   "metadata": {},
   "source": [
    "Refer back to the dictionary, and you should start to see how this is similar to using a dictionary, but the syntax is different. Let’s compare: "
   ]
  },
  {
   "cell_type": "code",
   "execution_count": null,
   "metadata": {},
   "outputs": [],
   "source": [
    "1 mystuff['apple'] # get apple from dict\n",
    "2 mystuff.apple() # get apple from the module \n",
    "3 mystuff.tangerine # same thing, it's just a variable"
   ]
  },
  {
   "cell_type": "markdown",
   "metadata": {},
   "source": [
    "This means we have a very common pattern in Python:\n",
    "\n",
    "              1. Take a key=value style container.\n",
    "              2. Get something out of it by the key’s name.\n",
    "              \n",
    "In the case of the dictionary, the key is a string and the syntax is [key]. In the case of the module, the key is an identifier, and the syntax is .key. Other than that they are nearly the same thing."
   ]
  },
  {
   "cell_type": "markdown",
   "metadata": {},
   "source": [
    "#### 40.1.1 Classes Are Like Modules\n",
    "\n",
    "A class is a way to take a grouping of functions and data and place them inside a container so you can access them with the . (dot) operator.\n",
    "\n",
    "If I were to create a class just like the mystuff module, I’d do something like this:"
   ]
  },
  {
   "cell_type": "code",
   "execution_count": null,
   "metadata": {},
   "outputs": [],
   "source": [
    "1 class MyStuff(object):\n",
    "2 \n",
    "3 def __init__(self): \n",
    "4 self.tangerine = \"And now a thousand years between\"\n",
    "5\n",
    "6 def apple(self): \n",
    "7 print(\"I AM CLASSY APPLES!\")"
   ]
  },
  {
   "cell_type": "markdown",
   "metadata": {},
   "source": [
    "#### 40.1.2 Objects Are Like Import\n",
    "\n",
    " ”instantiate”,  is just a fancy, obnoxious, overly smart way to say ”create.” When you instantiate a class what you get is called an object.\n",
    " \n",
    "You instantiate (create) a class by calling the class like it’s a function, like this:\n"
   ]
  },
  {
   "cell_type": "code",
   "execution_count": null,
   "metadata": {},
   "outputs": [],
   "source": [
    "1 thing = MyStuff() \n",
    "2 thing.apple() \n",
    "3 print(thing.tangerine)"
   ]
  },
  {
   "cell_type": "code",
   "execution_count": null,
   "metadata": {},
   "outputs": [],
   "source": [
    "The first line is the ”instantiate” operation, and it’s a lot like calling a function. However, Python coordinates a sequence of events for you behind the scenes. I’ll go through these steps using the preceding code for MyStuff:\n",
    "\n",
    "1. Python looks for MyStuff() and sees that it is a class you’ve defined.\n",
    "\n",
    "2. Python crafts an empty object with all the functions you’ve specified in the class using def.\n",
    "\n",
    "3. Python then looks to see if you made a ”magic” __init__ function, and if you have it calls that function to initialize your newly created empty object.\n",
    "\n",
    "4. In the MyStuff function __init__ I then get this extra variable self, which is that empty object Python made for me, and I can set variables on it just like you would with a module, dictionary, or other object.\n",
    "\n",
    "5. In this case, I set self.tangerine to a song lyric and then I’ve initialized this object.\n",
    "\n",
    "6. Now Python can take this newly minted object and assign it to the thing variable for me to work with\n",
    "\n",
    "That’sthe basics of how Python does this ”mini-import” when you call a class like a function. Remember that this is not giving you the class but in stead is using the class as a blue print for building a copy of that type of thing.\n",
    "\n",
    "• Classes are like blueprints or definitions for creating new mini-modules.\n",
    "\n",
    "• Instantiationishowyoumakeoneofthesemini-modulesand importitatthesametime. ”Instantiate” just means to create an object from the class.\n",
    "\n",
    "• The resulting created mini-module is called an object, and you then assign it to a variable to work with it.\n",
    "\n",
    "At this point objects behave differently from modules, and this should only serve as a way for you to bridge over to understanding classes and objects.\n"
   ]
  },
  {
   "cell_type": "code",
   "execution_count": null,
   "metadata": {},
   "outputs": [],
   "source": [
    "1 # dict style\n",
    "2 mystuff['apples']\n",
    "3\n",
    "4 # module style\n",
    "5 mystuff.apples() \n",
    "6 print(mystuff.tangerine)\n",
    "7\n",
    "8 # class style \n",
    "9 thing = MyStuff()\n",
    "10 thing.apples() \n",
    "11 print(thing.tangerine)"
   ]
  },
  {
   "cell_type": "code",
   "execution_count": null,
   "metadata": {},
   "outputs": [],
   "source": [
    "taht was an example of three ways to get things from things"
   ]
  },
  {
   "cell_type": "markdown",
   "metadata": {},
   "source": [
    "# Exercise 41\n",
    "In this exercise the book teaches us to speak \"object-oriented\". gives us a small set of words with definitions we need to know. then it gives us a set of phrases with holes that we will have to understand.\n",
    "\n",
    "#### Word Drills\n",
    "\n",
    "class Tell Python to make a new type of thing.\n",
    "\n",
    "object Two meanings: the most basic type of thing, and any instance of some thing.\n",
    "\n",
    "instance What you get when you tell Python to create a class.\n",
    "\n",
    "def How you define a function inside a class.\n",
    "\n",
    "self Inside the functions in a class, self is a variable for the instance/object being accessed.\n",
    "\n",
    "inheritance The concept that one class can inherit traits from another class, much like you and your parents.\n",
    "\n",
    "composition Theconceptthataclasscanbecomposedofotherclassesasparts, muchlikehowacarhas wheels.\n",
    "\n",
    "attribute A property classes have that are from composition and are usually variables.\n",
    "\n",
    "is-a A phrase to say that something inherits from another, as in a ”salmon” is-a ”fish.”\n",
    "\n",
    "has-a A phrase to say that something is composed of other things or has a trait, as in ”a salmon has-a mouth.”\n",
    "\n",
    "#### Phrase Drills\n",
    "\n",
    "class X(Y) ”Make a class named X that is-a Y.”\n",
    "\n",
    "class X(object): def __init__(self, J) ”class X has-a __init__ that takes self and J parameters.”\n",
    "\n",
    "class X(object): def M(self, J) ”class X has-a function named M that takes self and J parameters.”\n",
    "\n",
    "foo = X() ”Set foo to an instance of class X.”\n",
    "\n",
    "foo.M(J) ”From foo, get the M function, and call it with parameters self, J.”\n",
    "\n",
    "foo.K = Q ”From foo, get the K attribute, and set it to Q.”\n",
    "\n",
    "In each of these, where you see X, Y, M, J, K, Q, and foo, you can treat those like blank spots. For example, I can also write these sentences as follows:\n",
    "\n",
    "1. ”Make a class named ??? that is-a Y.”\n",
    "\n",
    "2. ”class ??? has-a __init__ that takes self and ??? parameters.”\n",
    "\n",
    "3. ”class ??? has-a function named ??? that takes self and ??? parameters.”\n",
    "\n",
    "4. ”Set ??? to an instance of class ???.”\n",
    "\n",
    "5. ”From ???, get the ??? function, and call it with self=??? and parameters ???.”\n",
    "\n",
    "6. ”From ???, get the ??? attribute, and set it to ???.”\n",
    "\n",
    "#### Combined Drills\n",
    "\n",
    "The final preparation for you is to combine the words drills with the phrase drills. What I want you to do for this drill is this:\n",
    "\n",
    "1. Take a phrase card and drill it.\n",
    "\n",
    "2. Flip it over and read the sentence, and for each word in the sentence that is in your words drills, get that card.\n",
    "\n",
    "3. Drill those words for that sentence.\n",
    "\n",
    "4. Keep going until you are bored, then take a break and do it again."
   ]
  },
  {
   "cell_type": "code",
   "execution_count": null,
   "metadata": {},
   "outputs": [],
   "source": [
    "1 import random\n",
    "2 from urllib.request import urlopen \n",
    "3 import sys\n",
    "4\n",
    "5 WORD_URL = \"http://learncodethehardway.org/words.txt\"\n",
    "6 WORDS = []\n",
    "7 \n",
    "8 PHRASES = { \n",
    "    9 \"class %%%(%%%):\": \n",
    "    10 \"Make a class named %%% that is-a %%%.\",\n",
    "    11 \"class %%%(object):\\n\\tdef __init__(self, ***)\" : \n",
    "    12 \"class %%% has-a __init__ that takes self and *** params.\",\n",
    "    13 \"class %%%(object):\\n\\tdef ***(self, @@@)\":\n",
    "    14 \"class %%% has-a function *** that takes self and @@@ params.\",\n",
    "    15 \"*** = %%%()\":\n",
    "    16 \"Set *** to an instance of class %%%.\",\n",
    "    17 \"***.***(@@@)\":\n",
    "    18 \"From *** get the *** function, call it with params self, @@@.\", \n",
    "    19 \"***.*** = '***'\": \n",
    "    20 \"From *** get the *** attribute and set it to '***'.\" \n",
    "21 }\n",
    "22\n",
    "23 # do they want to drill phrases first \n",
    "24 if len(sys.argv) == 2 and sys.argv[1] == \"english\": \n",
    "    25 PHRASE_FIRST = True \n",
    "26 else: \n",
    "    27 PHRASE_FIRST = False\n",
    "28\n",
    "29 # load up the words from the website \n",
    "30 for word in urlopen(WORD_URL).readlines(): \n",
    "    31 WORDS.append(str(word.strip(), encoding=\"utf-8\"))\n",
    "32\n",
    "33 \n",
    "34 def convert(snippet, phrase):\n",
    "    35 class_names = [w.capitalize() for w in\n",
    "                    36 random.sample(WORDS, snippet.count(\"%%%\"))]\n",
    "    37 other_names = random.sample(WORDS, snippet.count(\"***\")) \n",
    "    38 results = [] \n",
    "    39 param_names = []\n",
    "40 \n",
    "41 for i in range(0, snippet.count(\"@@@\")): \n",
    "    42 param_count = random.randint(1,3)\n",
    "    43 param_names.append(', '.join( \n",
    "        44 random.sample(WORDS, param_count)))\n",
    "45 \n",
    "46 for sentence in snippet, phrase: \n",
    "    47 result = sentence[:]\n",
    "48 \n",
    "49 # fake class names \n",
    "50 for word in class_names: \n",
    "    51 result = result.replace(\"%%%\", word, 1)\n",
    "52 \n",
    "53 # fake other names \n",
    "54 for word in other_names: \n",
    "    55 result = result.replace(\"***\", word, 1)\n",
    "56 \n",
    "57 # fake parameter lists \n",
    "58 for word in param_names: \n",
    "    59 result = result.replace(\"@@@\", word, 1)\n",
    "60 \n",
    "61 results.append(result)\n",
    "62\n",
    "63 return results\n",
    "64\n",
    "65\n",
    "66 # keep going until they hit CTRL-D \n",
    "67 try: \n",
    "    68 while True: \n",
    "        69 snippets = list(PHRASES.keys()) \n",
    "        70 random.shuffle(snippets)\n",
    "71 \n",
    "72 for snippet in snippets:\n",
    "    73 phrase = PHRASES[snippet] \n",
    "    74 question, answer = convert(snippet, phrase)\n",
    "    75 if PHRASE_FIRST:\n",
    "        76 question, answer = answer, question\n",
    "77 \n",
    "        78 print(question)\n",
    "79\n",
    "80 input(\"> \") \n",
    "81 print(f\"ANSWER: {answer}\\n\\n\") \n",
    "82 except EOFError: \n",
    "    83 print(\"\\nBye\")"
   ]
  },
  {
   "cell_type": "markdown",
   "metadata": {},
   "source": [
    "Run this script and try to translate the ”object-oriented phrases” into English translations. You should see that the PHRASES dict has both forms and that you just have to enter the correct one.\n",
    "\n",
    "The goal is to go through real code and start learning to ”pattern match” the phrases you just learned against how they’re used."
   ]
  },
  {
   "cell_type": "markdown",
   "metadata": {},
   "source": [
    "# Exercise 42: Is-A, Has-A, Objects, and Classes\n",
    "\n",
    "This exercise of the book tells us about the objects and classes and how we can see the differences between them. The book mentions exist a problem and is that don't exist a real differences because them are the same but uses in different cases, the book talks about that problem in a metaphoric question in that compare the objects and classes in different types of fishes, where told the question \"what is difference between a salmon and a simple fish?\" and put many examples how that dilemma, the book explain it placing attributes to the salmon to explain how function the exercise where we can add attributes to the fish to make it a \"special\" we can add a name, size, etc.\n",
    "\n",
    "In the final, the author put an example when a chef wants the meat of it and prepare to eat, and how now the fish is seen as an object that would end in inside of the chef as food.\n",
    "\n",
    "After the introduction of the exercise the book demostrate how we can see that exercise in a programm and do recommendation to avoid the confusion that recommendation is the next, we need learn this words \"is-a” and ”has-a\" and said the next:\n",
    "\n",
    "  \"when you use the phrase is-a when you talk about objects and classes being related to each other by a class                relationship\"\n",
    "  \n",
    "  \"When ou use has-a when you talk about objects and classes that are related only because they reference each other.\"\n",
    "  \n",
    "The next is remplace the \"##\" with the key words always remember than we use Is-a is comparing the fish and the salmon, and the Has-a when is the salmon with the gills."
   ]
  },
  {
   "cell_type": "code",
   "execution_count": null,
   "metadata": {},
   "outputs": [],
   "source": [
    "##Animal is-a object (yes, sort of confusing) look at the extra credit \n",
    "class Animal(object):\n",
    "    pass\n",
    "Is-a \n",
    "class Dog(Animal):\n",
    "def __init__(self, name): \n",
    "Is-a \n",
    "self.name = name\n",
    "Is-a\n",
    "class Cat(Animal):\n",
    "def __init__(self, name): \n",
    "    Is-a \n",
    "    self.name = name\n",
    "Is-a \n",
    "class Person(object):\n",
    "def __init__(self, name):\n",
    "    Is-a \n",
    "    elf.name = name\n",
    "##Person has-a pet of some kind\n",
    "\n",
    "self.pet = None\n",
    "\n",
    "Has-a \n",
    "class Employee(Person):\n",
    "\n",
    "def __init__(self, name, salary): \n",
    "    Is-a hmm what is this strange magic? \n",
    "    super(Employee, self).__init__(name) \n",
    "    Has-a\n",
    "    self.salary = salary\n",
    "\n",
    "    \n",
    "    Is-a \n",
    "    class Fish(object): \n",
    "        pass\n",
    "\n",
    "    Is-a\n",
    "    class Salmon(Fish): \n",
    "        pass\n",
    "\n",
    "    Has-a\n",
    "    class Halibut(Fish): \n",
    "        pass\n",
    "\n",
    "\n",
    "Has-a rover is-a Dog \n",
    "rover = Dog(\"Rover\")\n",
    "\n",
    "Is-a  \n",
    "satan = Cat(\"Satan\")\n",
    "\n",
    "Is-a \n",
    "mary = Person(\"Mary\")\n",
    "\n",
    "As-a \n",
    "mary.pet = satan\n",
    "\n",
    "Is-a \n",
    "frank = Employee(\"Frank\", 120000)\n",
    "Has-a \n",
    "frank.pet = rover\n",
    "Is-a\n",
    "flipper = Fish()\n",
    "\n",
    "IS-A, HAS-A, OBJECTS, AND CLASSES 195\n",
    "Has-a \n",
    "crouse = Salmon()\n",
    "\n",
    "Has-a\n",
    "harry = Halibut()"
   ]
  },
  {
   "cell_type": "markdown",
   "metadata": {},
   "source": [
    "After that we did the exercise where I replace the \"##\" with is or has the author in the last part of the exercise mention that the Object is not necessary put before the class but is better if we put that implicit, mention that in Python 2 that is impossible but with python 3 is possible but that is not recommended by the author because if is explicit we can identify easily, not is necessary but in his opinion is the better."
   ]
  },
  {
   "cell_type": "markdown",
   "metadata": {},
   "source": [
    "# Exercise 13 - Basic Object-Oriented Analysis and Design\n",
    "\n",
    "In this exercise following the autor we come to see the programmation in objects and talk about how we can initiate and some tips that he said it's not necessary followin but if we are new in this maybe could work for the new students in this studies the recommendations of that ahutor said are the followings:\n",
    "\n",
    "   >Write or draw about the problem.\n",
    "   \n",
    "   >Extract key concepts from 1 and research them.\n",
    "   \n",
    "   >Create a class hierarchy and object map for the concepts.\n",
    "   \n",
    "   >Code the classes and a test to run them.\n",
    "   \n",
    "   >Repeat and refine.\n",
    "\n",
    "All in that order in top-down. This is because as we always doing the same process in a point of the time we can better the project because we repeat, repeat, repeat... and in some point of that sequence the problem would be refined and ready for solve, but is only a suggestion not is necessary follow we can find the better option and how adapt the process to ourselves.\n",
    "\n",
    "The autor explain is method that is creting a diagram, he initiate that separating in a list the nouns and verbs from that he extract the classes, functions and objects. In his list he separate the thing that he understand to find what means to in a future he need it.\n",
    "\n",
    "When he finish that, he create a three of concepts and tries find how they are related by calsses, when he found that he refine his \"three of concept\" that its that repeat and refine that we read in a past paragraphs, that is his solution to do the analysis we need repeat and refine our ideas until when we reach the figured out the class hierarchy.\n",
    "\n",
    "After explin us his metodology he talk about a game engine where we can see his metology applied. The autor do a description aboud his book where he said the game start with a paragraph where he put the game and the scene now he had the \"problem\" now he need make it real and now need create a class hierarchy and object map for the concepts and make it th game \"run\" the first he use this concepts or:\n",
    "\n",
    "*Death This is when the player dies and should be something funny.\n",
    "\n",
    "*Central Corridor: This is the starting point and has a Gothon already standing the rethat the player shave to defeat with a joke before continuing.\n",
    "\n",
    "*Laser Weapon: Armory This is where the hero gets a neutron bomb to blow up the ship before getting to the escape pod. It has a keypad the hero has to guess the number for.\n",
    "\n",
    "*The Bridge: Another battle scene with a Gothon where the hero places the bomb.\n",
    "\n",
    "*Escape Pod: Where the hero escapes but only after guessing the right escape pod.\n",
    "\n",
    "With that concepts he now can initiate his \"three of concepts\", with the previous concepts he extract nouns to create the list of hierarchy he extract the words: Alien, ovni, bridge, ship, maze, player, etc... After that  past to investigate how workds all of the key words that he pick for example how works, her pieces, his problems... etc now he can class hierarchy and object map, the three with the concepts look like this:\n",
    "   \n",
    "   * Map \n",
    "   − next_scene \n",
    "   − opening_scene \n",
    "   * Engine\n",
    "   − play \n",
    "   * Scene\n",
    "   − enter \n",
    "      * Death \n",
    "      * Central Corridor \n",
    "      * Laser Weapon Armory \n",
    "      * The Bridge \n",
    "      * Escape Pod\n",
    "      \n",
    "The \"-\" is for example initiate the scene, now he have the hierarchy of the programm now we can make the code"
   ]
  },
  {
   "cell_type": "code",
   "execution_count": null,
   "metadata": {},
   "outputs": [],
   "source": [
    "class Scene(object):\n",
    "    \n",
    "    def enter(self): \n",
    "        pass\n",
    "\n",
    "class Engine(object): \n",
    "    \n",
    "    def __init__(self, scene_map): \n",
    "           pass\n",
    "        \n",
    "def play(self): \n",
    "    \n",
    "    pass\n",
    "class Death(Scene):\n",
    "    \n",
    "def enter(self): \n",
    "    pass\n",
    "class CentralCorridor(Scene):\n",
    "    \n",
    "def enter(self): \n",
    "    pass\n",
    "class LaserWeaponArmory(Scene):\n",
    "    \n",
    "def enter(self): \n",
    "    pass\n",
    "class TheBridge(Scene):\n",
    "def enter(self): \n",
    "    pass\n",
    "class EscapePod(Scene):\n",
    "    \n",
    "def enter(self):\n",
    "pass\n",
    "\n",
    "class Map(object):\n",
    "    \n",
    "    def __init__(self, start_scene): \n",
    "        pass\n",
    "    def next_scene(self, scene_name): \n",
    "        pass\n",
    "    def opening_scene(self): \n",
    "        pass\n",
    "\n",
    "a_map = Map('central_corridor') \n",
    "a_game = Engine(a_map) \n",
    "a_game.play()"
   ]
  },
  {
   "cell_type": "markdown",
   "metadata": {},
   "source": [
    "After the code the author do his last step and repeats refine all of the problems until reaching his objective, he said sometimes in the second or third return you can see problems in the first or second step and if you don't follow some process maybe you can perceive that problems.\n",
    "\n",
    "How now we have the done the tutorial of his process to create a program on basic object, analysis and design he open a new topic about what happens if we start from Botton-up, said this process it's better but only if you are a solid programmer and if you know for example if you want to talk about a car you need have a previously knowledge about it. Now the author explain us all the code escene for scene for example in the next case he explain the engine:"
   ]
  },
  {
   "cell_type": "code",
   "execution_count": null,
   "metadata": {},
   "outputs": [],
   "source": [
    "class Engine(object):\n",
    "    def __init__(self, scene_map): \n",
    "        self.scene_map = scene_map\n",
    "    def play(self): \n",
    "        current_scene = self.scene_map.opening_scene() \n",
    "        last_scene = self.scene_map.next_scene('finished')\n",
    "        \n",
    "            while current_scene != last_scene:\n",
    "                next_scene_name = current_scene.enter() \n",
    "                current_scene = self.scene_map.next_scene(next_scene_name)\n",
    "\n",
    "# be sure to print out the last scene 15 current_scene.enter()"
   ]
  },
  {
   "cell_type": "markdown",
   "metadata": {},
   "source": [
    "In the previous code we can see how he is ussing the class of the engie and the map in program, now he write a class of when the character died "
   ]
  },
  {
   "cell_type": "code",
   "execution_count": null,
   "metadata": {},
   "outputs": [],
   "source": [
    "class Death(Scene):\n",
    "    quips = [\n",
    "        \"You died. You kinda suck at this.\", \n",
    "        \"Your Mom would be proud...if she were smarter.\", \n",
    "        \"Such a luser.\", \n",
    "        \"I have a small puppy that's better at this.\", \n",
    "        \"You're worse than your Dad's jokes.\"\n",
    "\n",
    "         ]\n",
    "def enter(self): \n",
    "    print(Death.quips[randint(0, len(self.quips)-1)]) \n",
    "    exit(1)\n"
   ]
  },
  {
   "cell_type": "code",
   "execution_count": null,
   "metadata": {},
   "outputs": [],
   "source": [
    "1 class CentralCorridor(Scene):\n",
    "    def enter(self): \n",
    "        \n",
    "        print(dedent(\"\"\" The Gothons of Planet Percal #25 have invaded your ship and destroyed your entire crew. You are the last surviving 7 member and your last mission is to get the neutron destruct bomb from the Weapons Armory, put it in the bridge, and 9 blow the ship up after getting into an escape pod.\n",
    "                      You're running down the central corridor to the Weapons Armory when a Gothon jumps out, red scaly skin, dark grimy 13 teeth, and evil clown costume flowing around his hate filled body. He's blocking the door to the Armory and about to pull a weapon to blast you. \"\"\"))\n",
    "action = input(\"> \")\n",
    "\n",
    "      if action == \"shoot!\": \n",
    "    print(dedent(\"\"\" Quick on the draw you yank out your blaster and fire 23 it at the Gothon. His clown costume is flowing and 24 moving around his body, which throws off your aim. Your laser hits his costume but misses him entirely. This completely ruins his brand new costume his mother 27 bought him, which makes him fly into an insane rage 28 and blast you repeatedly in the face until you are 29 dead. Then he eats you. 30 \"\"\")) 31 return 'death'\n",
    "          elif action == \"dodge!\": \n",
    "        print(dedent(\"\"\"Like a world class boxer you dodge, weave, slip and lide right as the Gothon's blaster cranks a laser 37 past your head. In the middle of your artful dodge 38 your foot slips and you bang your head on the metal wall and pass out. You wake up shortly after only to die as the Gothon stomps on your head and eats you. 41 \"\"\")) \n",
    "        \n",
    "             return 'death'\n",
    "        \n",
    "             elif action == \"tell a joke\": \n",
    "                print(dedent(\"\"\" Lucky for you they made you learn Gothon insults in the academy. You tell the one Gothon joke you know: 48 Lbhe zbgure vf fb sng, jura fur fvgf nebhaq gur ubhfr, fur fvgf nebhaq gur ubhfr. The Gothon stops, tries not to laugh, then busts out laughing and can't move. 51 While he's laughing you run up and shoot him square in 52 the head putting him down, then jump through the 53 Weapon Armory door. 54 \"\"\")) 55 return 'laser_weapon_armory'\n",
    "                   else: \n",
    "                    print(\"DOES NOT COMPUTE!\") \n",
    "                    \n",
    "                    return 'central_corridor'"
   ]
  },
  {
   "cell_type": "markdown",
   "metadata": {},
   "source": [
    "Here is another scene that is from the map, is a future used and the author said we need see the dedent on the line 4 that need be erased."
   ]
  },
  {
   "cell_type": "code",
   "execution_count": null,
   "metadata": {},
   "outputs": [],
   "source": [
    "class LaserWeaponArmory(Scene):\n",
    "def enter(self): \n",
    "    print(dedent(\"\"\" You do a dive roll into the Weapon Armory, crouch and scan 6 the room for more Gothons that might be hiding. It's dead quiet, too quiet. You stand up and run to the far side of the room and find the neutron bomb in its container. There's a keypad lock on the box and you need the code to get the bomb out. If you get the code wrong times then  the lock closes forever and you can't get the bomb. The  code is 3 digits. \"\"\"))\n",
    "    \n",
    "14 code = f\"{randint(1,9)}{randint(1,9)}{randint(1,9)}\" \n",
    "        guess = input(\"[keypad]> \") \n",
    "        guesses = 0\n",
    "while guess != code and guesses < 10: 20 print(\"BZZZZEDDD!\") \n",
    "    guesses += 1 \n",
    "    guess = input(\"[keypad]> \")\n",
    "           if guess == code: \n",
    "            print(dedent(\"\"\" \n",
    "            The container clicks open and the seal breaks, letting gas out. You grab the neutron bomb and run as fast as you can to the bridge where you must place it in the 29 right spot. 30 \"\"\")) 31 return 'the_bridge' 32 else: 33 print(dedent(\"\"\" 34 The lock buzzes one last time and then you hear a 35 sickening melting sound as the mechanism is fused 36 together. You decide to sit there, and finally the 37 Gothons blow up the ship from their ship and you die. 38 \"\"\")) 39 return 'death'\n",
    "\n",
    "\n",
    "class TheBridge(Scene):\n",
    "\n",
    "      def enter(self): \n",
    "        print(dedent(\"\"\"You burst onto the Bridge with the netron destruct bomb under your arm and surprise 5 Gothons who are trying to 49 take control of the ship. Each of them has an even uglier 50 clown costume than the last. They haven't pulled their 51 weapons out yet, as they see the active bomb under your 52 arm and don't want to set it off. 53 \"\"\"))\n",
    "           action = input(\"> \")\n",
    "            \n",
    "             if action == \"throw the bomb\":\n",
    "                    print(dedent(\"\"\" In a panic you throw the bomb at the group of Gothons and make a leap for the door. Right as you drop it a 61 Gothon shoots you right in the back killing you. As 62 you die you see another Gothon frantically try to 63 disarm the bomb. You die knowing they will probably 64 blow up when it goes off. 65 \"\"\")) 66 return 'death'\n",
    "                     elif action == \"slowly place the bomb\": \n",
    "                        print(dedent(\"\"\" You point your blaster at the bomb under your arm and the Gothons put their hands up and start to sweat. 72 You inch backward to the door, open it, and then 73 carefully place the bomb on the floor, pointing your 74 blaster at it. You then jump back through the door, 75 punch the close button and blast the lock so the 76 Gothons can't get out. Now that the bomb is placed 77 you run to the escape pod to get off this tin can. 78 \"\"\"))\n",
    "                          return 'escape_pod' else: \n",
    "                            print(\"DOES NOT COMPUTE!\")  \n",
    "                            \n",
    "                            return \"the_bridge\"\n",
    "                        \n",
    "\n",
    "class EscapePod(Scene):\n",
    "def enter(self): print(dedent(\"\"\"You rush through the ship desperately trying to make it to the escape pod before the whole ship explodes. It seems 92 like hardly any Gothons are on the ship, so your run is 93 clear of interference. You get to the chamber with the 94 escape pods, and now need to pick one to take. Some of 95 them could be damaged but you don't have time to look. 96 There's 5 pods, which one do you take? 97 \"\"\"))\n",
    "    good_pod = randint(1,5) \n",
    "    guess = input(\"[pod #]> \")\n",
    "\n",
    "           if int(guess) != good_pod: \n",
    "            print(dedent(\"\"\" You jump into pod {guess} and hit the eject button. 1The pod escapes out into the void of space, then 107 implodes as the hull ruptures, crushing your body into 108 jam jelly. 109 \"\"\")) 110 return 'death' 111 else: 112 print(dedent(\"\"\" 113 You jump into pod {guess} and hit the eject button. 114 The pod easily slides out into space heading to the 115 planet below. As it flies to the planet, you look 116 back and see your ship implode then explode like a  bright star, taking out the Gothon ship at the same  time. You won!  \"\"\"))\n",
    "            \n",
    "                  return 'finished'\n",
    "            \n",
    "class Finished(Scene):\n",
    "     def enter(self): \n",
    "            print(\"You won! Good job.\")\n",
    "            \n",
    "            nreturn 'finished'"
   ]
  },
  {
   "cell_type": "markdown",
   "metadata": {},
   "source": [
    "The autor said that was the last part of the game, and how all of the scene flow among herself can write the code together without problems."
   ]
  },
  {
   "cell_type": "code",
   "execution_count": null,
   "metadata": {},
   "outputs": [],
   "source": [
    "class Map(object):\n",
    "scenes = {'central_corridor': CentralCorridor(),\n",
    "          'laser_weapon_armory': LaserWeaponArmory(),\n",
    "          'the_bridge':TheBridge(), \n",
    "          'escape_pod': EscapePod(), \n",
    "          'death': Death(), \n",
    "          'finished': Finished(),\n",
    "         }\n",
    "def __init__(self, start_scene):\n",
    "    \n",
    "self.start_scene = start_scene\n",
    "\n",
    "def next_scene(self, scene_name): \n",
    "    val = Map.scenes.get(scene_name) \n",
    "    return val\n",
    "def opening_scene(self): \n",
    "    return self.next_scene(self.start_scene"
   ]
  },
  {
   "cell_type": "markdown",
   "metadata": {},
   "source": [
    "In the previous code the author demostrate how his code are saved and than every scene are in a dictionary."
   ]
  },
  {
   "cell_type": "code",
   "execution_count": null,
   "metadata": {},
   "outputs": [],
   "source": [
    "a_map = Map('central_corridor') \n",
    "a_game = Engine(a_map) \n",
    "a_game.play()"
   ]
  },
  {
   "cell_type": "markdown",
   "metadata": {},
   "source": [
    "And this is the and how is elaborated the order sequence to star the game if you want initiate it just need enter play and the proggram works in that order"
   ]
  }
 ],
 "metadata": {
  "kernelspec": {
   "display_name": "Python 3",
   "language": "python",
   "name": "python3"
  },
  "language_info": {
   "codemirror_mode": {
    "name": "ipython",
    "version": 3
   },
   "file_extension": ".py",
   "mimetype": "text/x-python",
   "name": "python",
   "nbconvert_exporter": "python",
   "pygments_lexer": "ipython3",
   "version": "3.7.3"
  }
 },
 "nbformat": 4,
 "nbformat_minor": 2
}
