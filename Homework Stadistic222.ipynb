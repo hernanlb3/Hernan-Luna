{
 "cells": [
  {
   "cell_type": "markdown",
   "metadata": {},
   "source": [
    "# LEARN PYTHON 3 THE HARD WAY\n",
    " "
   ]
  },
  {
   "cell_type": "markdown",
   "metadata": {},
   "source": [
    "## exercise 1             -A Good First Program\n"
   ]
  },
  {
   "cell_type": "markdown",
   "metadata": {},
   "source": [
    "In the first exercise the book explain us about create our first program with python, the book mention that python work best when the file end with .py\n",
    "the book mention:\n",
    "\"On Windows, remember you always type python instead of python3.6 like this:\n",
    "python ex1.py\"\n",
    "\n",
    "\n",
    "There are diferents editors to programing in python but the commands always are the same. "
   ]
  },
  {
   "cell_type": "code",
   "execution_count": 8,
   "metadata": {
    "scrolled": false
   },
   "outputs": [
    {
     "name": "stdout",
     "output_type": "stream",
     "text": [
      "Hi student\n",
      "you are here to learn\n",
      "you most follow my instructions\n",
      "this will be fun\n"
     ]
    }
   ],
   "source": [
    "print(\"Hi student\")\n",
    "print(\"you are here to learn\")\n",
    "print(\"you most follow my instructions\")\n",
    "print(\"this will be fun\")\n"
   ]
  },
  {
   "cell_type": "markdown",
   "metadata": {},
   "source": [
    "If you have a mistake in some command,python tell you about the line in wich you have the mistake "
   ]
  },
  {
   "cell_type": "markdown",
   "metadata": {},
   "source": [
    "#### This is an example "
   ]
  },
  {
   "cell_type": "code",
   "execution_count": 10,
   "metadata": {},
   "outputs": [
    {
     "ename": "SyntaxError",
     "evalue": "EOL while scanning string literal (<ipython-input-10-ab01357d988e>, line 2)",
     "output_type": "error",
     "traceback": [
      "\u001b[1;36m  File \u001b[1;32m\"<ipython-input-10-ab01357d988e>\"\u001b[1;36m, line \u001b[1;32m2\u001b[0m\n\u001b[1;33m    print(\"you learn so fast)\u001b[0m\n\u001b[1;37m                             ^\u001b[0m\n\u001b[1;31mSyntaxError\u001b[0m\u001b[1;31m:\u001b[0m EOL while scanning string literal\n"
     ]
    }
   ],
   "source": [
    "print(\"Hi again\")\n",
    "print(\"you learn so fast)\n",
    "print(\"but be careful you can be wrong\")"
   ]
  },
  {
   "cell_type": "markdown",
   "metadata": {},
   "source": [
    "How you can see python tell us about the mistake,\n",
    "the line where you have the mistake in this case in line 2,\n",
    "points with this (^) the part of the mistake."
   ]
  },
  {
   "cell_type": "markdown",
   "metadata": {},
   "source": [
    "## exercise 2"
   ]
  },
  {
   "cell_type": "markdown",
   "metadata": {},
   "source": [
    "## Comments and Pound Characters\n",
    " "
   ]
  },
  {
   "cell_type": "markdown",
   "metadata": {},
   "source": [
    "the comments are very importan in this program because it tell us something about the commands that we used for understand it and they are used to disable parts of your program if you need to remove them temporarily.\n",
    " "
   ]
  },
  {
   "cell_type": "markdown",
   "metadata": {},
   "source": [
    " ##### Here’s how you use comments in Python:\n"
   ]
  },
  {
   "cell_type": "code",
   "execution_count": 14,
   "metadata": {},
   "outputs": [
    {
     "name": "stdout",
     "output_type": "stream",
     "text": [
      "you have NA\n",
      "you're reprovaded\n"
     ]
    }
   ],
   "source": [
    "#If you want to see this (you have NA) on your screen, you need to type: print(\"you have NA\")\n",
    "# you need understand the command(print)\n",
    "print(\"you have NA\")\n",
    "print(\"you're reprovaded\")\n"
   ]
  },
  {
   "cell_type": "markdown",
   "metadata": {},
   "source": [
    "how you can see the comments are ingnored by python, doesn't matter what kind of editor we use the result is the same"
   ]
  },
  {
   "cell_type": "code",
   "execution_count": 15,
   "metadata": {},
   "outputs": [
    {
     "name": "stdout",
     "output_type": "stream",
     "text": [
      "my name is # gilberto\n"
     ]
    }
   ],
   "source": [
    "print(\"my name is # gilberto\")\n"
   ]
  },
  {
   "cell_type": "markdown",
   "metadata": {},
   "source": [
    "The # in this code is inside a string, so it will be put into the string until the ending \" character is hit. Pound characters in string are just considered characters, not comments.\n"
   ]
  },
  {
   "cell_type": "markdown",
   "metadata": {},
   "source": [
    "## exercise 3"
   ]
  },
  {
   "cell_type": "markdown",
   "metadata": {},
   "source": [
    "## Numbers and Math"
   ]
  },
  {
   "cell_type": "markdown",
   "metadata": {},
   "source": [
    "the book metion that every programming language has a form to do numbers and math, in this exercise try to explain us how to do it "
   ]
  },
  {
   "cell_type": "markdown",
   "metadata": {},
   "source": [
    "###### this are math symbols"
   ]
  },
  {
   "cell_type": "markdown",
   "metadata": {},
   "source": [
    "• + plus • - minus • / slash • * asterisk • % percent • < less-than • > greater-than • <= less-than-equal • >= greater-than-equal"
   ]
  },
  {
   "cell_type": "code",
   "execution_count": 26,
   "metadata": {},
   "outputs": [
    {
     "name": "stdout",
     "output_type": "stream",
     "text": [
      "I have to collect some money to pay my debts\n",
      "Salary 3100.0\n",
      "Debts 298\n",
      "now I'll count the expenses\n",
      "1050.0\n",
      "It is true that 3100 > 298 ?\n",
      "True\n",
      " It is true that 1050 < 298 ?\n",
      "False\n",
      "it is lees-than-equal? False\n",
      "it is greater-than-equal? True\n"
     ]
    }
   ],
   "source": [
    "print(\"I have to collect some money to pay my debts\")\n",
    "print(\"Salary\",500 + 600 + 4000 / 2)\n",
    "print(\"Debts\",300 - 200 * 4 % 3)\n",
    "print(\"now I'll count the expenses\")\n",
    "print(50 + 200 / 4 * 8 % 2 + 1000)\n",
    "print(\"It is true that 3100 > 298 ?\")\n",
    "print(3100 > 298)\n",
    "print(\" It is true that 1050 < 298 ?\")\n",
    "print(1050 < 298)\n",
    "print(\"it is lees-than-equal?\",500 <= 100)\n",
    "print(\"it is greater-than-equal?\",500 >=12)"
   ]
  },
  {
   "cell_type": "markdown",
   "metadata": {},
   "source": [
    "this was an example of how to use math operations in the python program"
   ]
  },
  {
   "cell_type": "markdown",
   "metadata": {},
   "source": [
    "## exercise 4"
   ]
  },
  {
   "cell_type": "markdown",
   "metadata": {},
   "source": [
    "## Variables and Names"
   ]
  },
  {
   "cell_type": "markdown",
   "metadata": {},
   "source": [
    "the book explain what is a variable and mention that is nothing more than a name for something that is constantly repeated in the programming"
   ]
  },
  {
   "cell_type": "markdown",
   "metadata": {},
   "source": [
    "in the next example i am going to try to use some variables "
   ]
  },
  {
   "cell_type": "code",
   "execution_count": 33,
   "metadata": {},
   "outputs": [
    {
     "name": "stdout",
     "output_type": "stream",
     "text": [
      "I have a bucket with blue and red balls\n",
      "there are 65 blue balls in the bucket\n",
      "there are 35 red balls in the bucket\n",
      "if i take 52 blue balls to the bucket\n",
      "how many balls will remain in the bucket?\n",
      "remain 48 in the bucket\n",
      "when of this are blue?\n",
      "13\n"
     ]
    }
   ],
   "source": [
    "# my variables are the followin\n",
    "bucket = 100\n",
    "blue_balls = 65\n",
    "red_balls = bucket - blue_balls\n",
    " # the (_) in a variable is for put a white space\n",
    "print(\"I have a bucket with blue and red balls\")\n",
    "print(\"there are\" ,blue_balls,\"blue balls in the bucket\")\n",
    "print(\"there are\",red_balls,\"red balls in the bucket\")\n",
    "print(\"if i take 52 blue balls to the bucket\")\n",
    "print(\"how many balls will remain in the bucket?\")\n",
    "print(\"remain\",bucket - 52, \"in the bucket\")\n",
    "print(\"when of this are blue?\")\n",
    "print(blue_balls - 52)\n"
   ]
  },
  {
   "cell_type": "markdown",
   "metadata": {},
   "source": [
    "## exercise 5"
   ]
  },
  {
   "cell_type": "markdown",
   "metadata": {},
   "source": [
    "## More Variables and Printing\n"
   ]
  },
  {
   "cell_type": "markdown",
   "metadata": {},
   "source": [
    "in this exercise we learn how to make strings that have variables embedded in them."
   ]
  },
  {
   "cell_type": "markdown",
   "metadata": {},
   "source": [
    " the book mention:\"You also must start the string with the letter f for ”format”, as in f\"Hello {somevar}\". This little f before the \" (double-quote) and the {} characters tell Python 3, ”Hey, this string needs to be formatted. Put these variables in there.”\"\n"
   ]
  },
  {
   "cell_type": "code",
   "execution_count": 44,
   "metadata": {},
   "outputs": [
    {
     "name": "stdout",
     "output_type": "stream",
     "text": [
      "let's talk about the student Gilberto.\n",
      "he has 85 of grade in math.\n",
      "he has 80 of grade in English.\n",
      "he has 96 of grade in PLC.\n",
      "he is in UT university,in the career of mechatronics ,groupB.\n",
      "my total grade is 261\n"
     ]
    }
   ],
   "source": [
    "my_name = 'Gilberto'\n",
    "math = 85\n",
    "English = 80\n",
    "PLC = 96\n",
    "group = 'B'\n",
    "university = 'UT'\n",
    "career = 'mechatronics'\n",
    "print(f\"let's talk about the student {my_name}.\")\n",
    "print(f\"he has {math} of grade in math.\")\n",
    "print(f\"he has {English} of grade in English.\")\n",
    "print(f\"he has {PLC} of grade in PLC.\")\n",
    "print(f\"he is in {university} university,in the career of {career} ,group{group}.\")\n",
    "total = math + English + PLC\n",
    "print(\"my total grade is\",total)"
   ]
  },
  {
   "cell_type": "markdown",
   "metadata": {},
   "source": [
    "# Exercise number 6 - Strings and text\n",
    "\n",
    "In this part of the book we learn how to do the strings, the book explain in some past exercise we did a string but we dont know that in the moment. Now in this exercise we will do it with a more complex exercise. The strings are a important part of the text in python we learn to use ”f-string\".# Example of exercise number 6\n"
   ]
  },
  {
   "cell_type": "code",
   "execution_count": null,
   "metadata": {},
   "outputs": [],
   "source": [
    "# Example of exercise number 6\n",
    "\n",
    "soccer_player = 10\n",
    "\n",
    "A = f\"in the soccer the star of the team always dress the number {soccer_player}.\"\n",
    "#up of this we can see an example of f-string you can add a variable inside {} when use it.\n",
    "\n",
    "Defense = \"defense\" \n",
    "\n",
    "Atack = \"atack\" \n",
    "\n",
    "B = f\"if you are a tough guy {Defense} is your position but if you are fast you can play in the {Atack}.\"\n",
    "#up of this we can see an example of f-string you can add a variable inside {} when use it.\n",
    "print(A) \n",
    "print(B)\n",
    "\n",
    "print(f\"I want to tell you: {A}\") \n",
    "#up of this we can see an example of f-string you can add a variable inside {} when use it.\n",
    "\n",
    "print(f\"Maybe: {B}'\")\n",
    "#up of this we can see an example of f-string you can add a variable inside {} when use it.\n",
    "\n",
    "you_want_it = True\n",
    "\n",
    "your_position = \"You wanna be the number 10 of my team?! {}\"\n",
    "\n",
    "print(your_position.format(you_want_it))\n",
    "\n",
    "d = \"ok but you are our atacker... \"\n",
    "a = \"because if you want be our defensor you can use the number 10 .\"\n",
    "\n",
    "print(d + a) #here we can see a 2 variables in string"
   ]
  },
  {
   "cell_type": "markdown",
   "metadata": {},
   "source": [
    "# Exercise number 7 More Printing\n",
    "\n",
    "In this exercise the books said we are doing more of the same, but recomendly dont skip it because the purpouse is we dont\n",
    "forget the past exercises"
   ]
  },
  {
   "cell_type": "code",
   "execution_count": null,
   "metadata": {},
   "outputs": [],
   "source": [
    "print(\"Marco like the video games.\") \n",
    "#in this line we use a print and text like the first exercise\n",
    "print(\"Its favorite game is The legend of zelda {}.\".format(': Ocarina of time'))\n",
    "#here we use .format to fill the {}\n",
    "print(\"and he play the game every day!!\") \n",
    "print(\"!\" * 10)#here we multiply the !! x 10 times!\n",
    "end1 = \"H\" \n",
    "end2 = \"e\"\n",
    "end3 = \"i\"\n",
    "end4 = \"s\"\n",
    "end5 = \"o\"\n",
    "end6 = \"b\"\n",
    "end7 = \"s\"\n",
    "end8 = \"e\"\n",
    "end9 = \"s\"\n",
    "end10 = \"s\"\n",
    "end11 = \"e\"\n",
    "end12 = \"d!\"\n",
    "#in this part we add 12 variables in letter to create a phrase in this my case I create He is obsessed! the , end= ' ' is to bring a space\n",
    "\n",
    "print(end1 + end2, end=' ')\n",
    "print(end3 + end4, end=' ')\n",
    "print(end5 + end6 + end7 + end8 + end9 + end10 + end11 + end12)\n"
   ]
  },
  {
   "cell_type": "markdown",
   "metadata": {},
   "source": [
    "# Exercise number 8 - printing, printing\n",
    "\n",
    "in this exercise is again more printing, the book dont said much because is like a practice about all of previous but more complex!. So the book mention about why true and false dont use the \" \" and its because python recognizes it as keyworks but the book not explain much more because said it its clear in the exercise number 27.\n"
   ]
  },
  {
   "cell_type": "code",
   "execution_count": null,
   "metadata": {},
   "outputs": [],
   "source": [
    "# Exercise number 8\n",
    "\n",
    "txtornum = \"{} {} {} {}\" #this could be replaced by 4 variables!\n",
    "print(txtornum.format(\"Only\", \"can\", \"be\", 4, ))\n",
    "print(txtornum.format(\"Only\", \"rest\", \"3\", \"spaces\"))\n",
    "print(txtornum.format(True, False, False, True))\n",
    "print(txtornum.format(txtornum, txtornum, txtornum, txtornum))\n",
    "print(txtornum.format( \n",
    "    \"The text end\", \n",
    "    \"this are the last words\", \n",
    "    \"of this exercises\", \n",
    "    \"go to the next!\" \n",
    "\n",
    "))\n",
    "\n",
    "#in this exercise we use the variable txtornum to create strings the book explain it is somenthing called \"function\""
   ]
  },
  {
   "cell_type": "markdown",
   "metadata": {},
   "source": [
    "# Exercise number 9 - Printing, printing, printing...\n",
    "\n",
    "In this part the book again try to help us to train because is more of the same, but now the book do and advertsiment because\n",
    "if we dont understand somenthing we need to return to the previous exercises."
   ]
  },
  {
   "cell_type": "code",
   "execution_count": null,
   "metadata": {},
   "outputs": [],
   "source": [
    "Country = \"MEX USA ARG PER BRA VNZ CAN\" #here we declare a varible with countries\n",
    "Citys = \"Tampico\\nCalifornia\\nMendoza\\nLima\\nSao Paulo\\nCaracas\\nJul\\nToronto\"\n",
    "# here I declare his citys but with a space with the help of /n\n",
    "print(\"Here are some countrys of america: \", Country) \n",
    "print(\"And some some citys to visit: \", Citys)\n",
    "print(\"\"\" \n",
    "The americas have a very goods place to visit.\n",
    "If you are a tourist.\n",
    "You can have a excelent time in any country of the list\n",
    "Think your decition!.\n",
    "\"\"\") #here we use the triple quotes to span or use various lines!\n"
   ]
  },
  {
   "cell_type": "markdown",
   "metadata": {},
   "source": [
    "# Exercise number 10 - What is that?\n",
    "\n",
    "In this exercises the book tell us about the \"scape sequenses\" and how we can use it with the help of \\. And how to avoid \n",
    "confussion of python because the strings and quotes sometimes he get confussed because not recognized it how a real double\n",
    "quoute."
   ]
  },
  {
   "cell_type": "code",
   "execution_count": null,
   "metadata": {},
   "outputs": [],
   "source": [
    "# exercise 10\n",
    "\n",
    "Tabular = \"\\tThis line can be moved by the /t command\"\n",
    "division = \"now we can divide to make a some type of list\\now i am on other line!.\"#here we use the slash to separate the lanes\n",
    "divide_txt = \"Hi \\\\ or \\\\ Bye?.\"\n",
    "exercises= \"\"\" \n",
    "I'll do a list: \n",
    "\\t* exercise 5: done           \n",
    "\\t* exercise 6: done\n",
    "\\t* exercise 7: done\n",
    "\\t* exercise 8: done\n",
    "\\t* exercise 9: done\\n\\t* exercise 10: done \n",
    "\"\"\"\n",
    "#up of this comment we use the command /t or tabular to separate the words looks like a list\n",
    "print(Tabular) \n",
    "print(division) \n",
    "print(divide_txt) \n",
    "print(exercises)\n",
    "\n",
    "#here are all of our variables"
   ]
  }
 ],
 "metadata": {
  "kernelspec": {
   "display_name": "Python 3",
   "language": "python",
   "name": "python3"
  },
  "language_info": {
   "codemirror_mode": {
    "name": "ipython",
    "version": 3
   },
   "file_extension": ".py",
   "mimetype": "text/x-python",
   "name": "python",
   "nbconvert_exporter": "python",
   "pygments_lexer": "ipython3",
   "version": "3.7.3"
  }
 },
 "nbformat": 4,
 "nbformat_minor": 2
}
