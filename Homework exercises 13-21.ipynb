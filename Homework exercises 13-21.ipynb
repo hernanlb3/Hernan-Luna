{
 "cells": [
  {
   "cell_type": "markdown",
   "metadata": {},
   "source": [
    "# Exercise 13\n",
    "In the next exercise the book teaches how to write a script that also accepts arguments.\n",
    "\n",
    "The command ”import.” is how you can to add features to your script from the Python feature set. Rather than give you all the features at once, Python asks you to say what you plan to use. This keeps your programs  small, but it also actsas documentation for other programmers who read your  code later.\n",
    "\n",
    "The argv is the ”argument variable,”  holds the arguments you pass to your Python script when you run it. In the exercises you will get to play with this more and see what happens.\n",
    "\n",
    " ”unpacks” argv so that, rather than holding all the arguments,, it gets assigned to n variables. It just says, ”Take whatever is in argv, unpack it, and assign it to all of these variables on the left in order.”\n",
    " \n",
    " ##### \"modules\"(these little things you import to make your Python program do more) They are also called ”libraries”"
   ]
  },
  {
   "cell_type": "code",
   "execution_count": 4,
   "metadata": {
    "collapsed": true
   },
   "outputs": [
    {
     "ename": "ValueError",
     "evalue": "not enough values to unpack (expected 4, got 3)",
     "output_type": "error",
     "traceback": [
      "\u001b[1;31m---------------------------------------------------------------------------\u001b[0m",
      "\u001b[1;31mValueError\u001b[0m                                Traceback (most recent call last)",
      "\u001b[1;32m<ipython-input-4-7fa9c97d5e6c>\u001b[0m in \u001b[0;36m<module>\u001b[1;34m\u001b[0m\n\u001b[0;32m      1\u001b[0m \u001b[1;32mfrom\u001b[0m \u001b[0msys\u001b[0m \u001b[1;32mimport\u001b[0m \u001b[0margv\u001b[0m\u001b[1;33m\u001b[0m\u001b[1;33m\u001b[0m\u001b[0m\n\u001b[0;32m      2\u001b[0m \u001b[1;31m# read the WYSS section for how to run this\u001b[0m\u001b[1;33m\u001b[0m\u001b[1;33m\u001b[0m\u001b[1;33m\u001b[0m\u001b[0m\n\u001b[1;32m----> 3\u001b[1;33m \u001b[0mscript\u001b[0m\u001b[1;33m,\u001b[0m \u001b[0mfirst\u001b[0m\u001b[1;33m,\u001b[0m \u001b[0msecond\u001b[0m\u001b[1;33m,\u001b[0m \u001b[0mthird\u001b[0m \u001b[1;33m=\u001b[0m \u001b[0margv\u001b[0m\u001b[1;33m\u001b[0m\u001b[1;33m\u001b[0m\u001b[0m\n\u001b[0m\u001b[0;32m      4\u001b[0m \u001b[1;33m\u001b[0m\u001b[0m\n\u001b[0;32m      5\u001b[0m \u001b[0mprint\u001b[0m\u001b[1;33m(\u001b[0m\u001b[1;34m\"The script is called:\"\u001b[0m\u001b[1;33m,\u001b[0m \u001b[0mscript\u001b[0m\u001b[1;33m)\u001b[0m\u001b[1;33m\u001b[0m\u001b[1;33m\u001b[0m\u001b[0m\n",
      "\u001b[1;31mValueError\u001b[0m: not enough values to unpack (expected 4, got 3)"
     ]
    }
   ],
   "source": [
    "from sys import argv\n",
    "# read the WYSS section for how to run this \n",
    "script, first, second, third = argv\n",
    "\n",
    "print(\"The script is called:\", script) \n",
    "print(\"Your first variable is:\", first) \n",
    "print(\"Your second variable is:\", second) \n",
    "print(\"Your third variable is:\", third)\n"
   ]
  },
  {
   "cell_type": "markdown",
   "metadata": {},
   "source": [
    "# Exercise 14\n",
    "### Prompting and Passing\n",
    "\n",
    "In the next exercise the book teaches us how to use argv and input together to ask the user something specific. In this exercise we will use the slightly different input causing it to print a simple command prompt >.\n",
    "\n",
    "We make a variable prompt that is set to the prompt we want, and we give that to input instead of typing it over and over. Now if we want to make the prompt something else, we just change it in this one spot and rerun the script. Very handy"
   ]
  },
  {
   "cell_type": "code",
   "execution_count": 5,
   "metadata": {
    "collapsed": true
   },
   "outputs": [
    {
     "ename": "ValueError",
     "evalue": "too many values to unpack (expected 2)",
     "output_type": "error",
     "traceback": [
      "\u001b[1;31m---------------------------------------------------------------------------\u001b[0m",
      "\u001b[1;31mValueError\u001b[0m                                Traceback (most recent call last)",
      "\u001b[1;32m<ipython-input-5-620a0d25b9f9>\u001b[0m in \u001b[0;36m<module>\u001b[1;34m\u001b[0m\n\u001b[0;32m      1\u001b[0m \u001b[1;32mfrom\u001b[0m \u001b[0msys\u001b[0m \u001b[1;32mimport\u001b[0m \u001b[0margv\u001b[0m\u001b[1;33m\u001b[0m\u001b[1;33m\u001b[0m\u001b[0m\n\u001b[1;32m----> 2\u001b[1;33m \u001b[0mscript\u001b[0m\u001b[1;33m,\u001b[0m \u001b[0muser_name\u001b[0m \u001b[1;33m=\u001b[0m \u001b[0margv\u001b[0m\u001b[1;33m\u001b[0m\u001b[1;33m\u001b[0m\u001b[0m\n\u001b[0m\u001b[0;32m      3\u001b[0m \u001b[0mprompt\u001b[0m \u001b[1;33m=\u001b[0m \u001b[1;34m'> '\u001b[0m\u001b[1;33m\u001b[0m\u001b[1;33m\u001b[0m\u001b[0m\n\u001b[0;32m      4\u001b[0m \u001b[0mprint\u001b[0m\u001b[1;33m(\u001b[0m\u001b[1;34mf\"Hi {user_name}, I'm the {script} script.\"\u001b[0m\u001b[1;33m)\u001b[0m\u001b[1;33m\u001b[0m\u001b[1;33m\u001b[0m\u001b[0m\n\u001b[0;32m      5\u001b[0m \u001b[0mprint\u001b[0m\u001b[1;33m(\u001b[0m\u001b[1;34m\"I'd like to ask you a few questions.\"\u001b[0m\u001b[1;33m)\u001b[0m\u001b[1;33m\u001b[0m\u001b[1;33m\u001b[0m\u001b[0m\n",
      "\u001b[1;31mValueError\u001b[0m: too many values to unpack (expected 2)"
     ]
    }
   ],
   "source": [
    "from sys import argv\n",
    "script, user_name = argv\n",
    "prompt = '> '\n",
    "print(f\"Hi {user_name}, I'm the {script} script.\")\n",
    "print(\"I'd like to ask you a few questions.\")\n",
    "print(f\"Do you like me {user_name}?\")\n",
    "likes = input(prompt)\n",
    "print(f\"Where do you live {user_name}?\")\n",
    "lives = input(prompt)\n",
    "print(\"What kind of computer do you have?\")\n",
    "computer = input(prompt)\n",
    "print(f\"\"\"Alright, so you said {likes} about liking me.You live in {lives}. Not sure where that is.And you have a {computer} computer. Nice.\"\"\")\n"
   ]
  },
  {
   "cell_type": "markdown",
   "metadata": {},
   "source": [
    "# Exercise 15\n",
    "In this exercise  you will learn about reading from a file.\n",
    "What we want to do is ”open” that file in our script and print it out. The solution is to use argv or in put to ask the user what file to open in stead of ”hard coding” the file’s name. "
   ]
  },
  {
   "cell_type": "code",
   "execution_count": 1,
   "metadata": {
    "collapsed": true
   },
   "outputs": [
    {
     "ename": "ValueError",
     "evalue": "too many values to unpack (expected 2)",
     "output_type": "error",
     "traceback": [
      "\u001b[1;31m---------------------------------------------------------------------------\u001b[0m",
      "\u001b[1;31mValueError\u001b[0m                                Traceback (most recent call last)",
      "\u001b[1;32m<ipython-input-1-6347334bcc90>\u001b[0m in \u001b[0;36m<module>\u001b[1;34m\u001b[0m\n\u001b[0;32m      1\u001b[0m \u001b[1;32mfrom\u001b[0m \u001b[0msys\u001b[0m \u001b[1;32mimport\u001b[0m \u001b[0margv\u001b[0m\u001b[1;33m\u001b[0m\u001b[1;33m\u001b[0m\u001b[0m\n\u001b[0;32m      2\u001b[0m \u001b[1;33m\u001b[0m\u001b[0m\n\u001b[1;32m----> 3\u001b[1;33m \u001b[0mscript\u001b[0m\u001b[1;33m,\u001b[0m \u001b[0mfilename\u001b[0m \u001b[1;33m=\u001b[0m \u001b[0margv\u001b[0m\u001b[1;33m\u001b[0m\u001b[1;33m\u001b[0m\u001b[0m\n\u001b[0m\u001b[0;32m      4\u001b[0m \u001b[1;33m\u001b[0m\u001b[0m\n\u001b[0;32m      5\u001b[0m \u001b[0mtxt\u001b[0m \u001b[1;33m=\u001b[0m \u001b[0mopen\u001b[0m\u001b[1;33m(\u001b[0m\u001b[0mfilename\u001b[0m\u001b[1;33m)\u001b[0m\u001b[1;33m\u001b[0m\u001b[1;33m\u001b[0m\u001b[0m\n",
      "\u001b[1;31mValueError\u001b[0m: too many values to unpack (expected 2)"
     ]
    }
   ],
   "source": [
    "from sys import argv\n",
    "\n",
    "script, filename = argv\n",
    "\n",
    "txt = open(filename)\n",
    "\n",
    "print(f\"Here's your file {filename}:\")\n",
    "print(txt.read())\n",
    "\n",
    "print(\"Type the filename again:\")\n",
    "file_again = input(\"> \")\n",
    "\n",
    "txt_again = open(file_again)\n",
    "\n",
    "print(txt_again.read())\n"
   ]
  },
  {
   "cell_type": "markdown",
   "metadata": {},
   "source": [
    "Lines 1-3 uses argv to get a filename. Next we have line 5, where we use a new command open. Right now, run pydoc open and read the instructions. Notice how, like your  own scripts and input,it takes a parameter and returns a value you can set to your own variable. You just opened a file.\n",
    "Line 7 prints a little message, but on line 8 we have something very new and exciting. We call a function on txt named read. What you get back from open is a file, and it also has commands you can give it. You give a file a command by using the . (dot or period), the name of the command, and parameters, just like with open and input. The difference is that txt.read() says, ”Hey txt! Do your read command with no parameters!”"
   ]
  },
  {
   "cell_type": "markdown",
   "metadata": {},
   "source": [
    "# Exercise 16\n",
    "For the next exercise we need to remember the following commands:\n",
    "\n",
    "• close – Closes the file. Like File->Save.. in your editor.\n",
    "\n",
    "• read – Reads the contents of the file. You can assign the result to a variable.\n",
    "\n",
    "• readline – Reads just one line of a text file.\n",
    "\n",
    "• truncate – Empties the file. Watch out if you care about the file.\n",
    "\n",
    "• write('stuff') – Writes ”stuff” to the file.\n",
    "\n",
    "• seek(0) – Move the read/write location to the beginning of the file.\n",
    "\n",
    "For now, these are the important commands you need to know. Some of them take parameters, but we do not really care about that. You only need to remember that write takes a parameter of a string you want to write to the fil.\n",
    "Let’s use some of this to make a simple little text editor"
   ]
  },
  {
   "cell_type": "code",
   "execution_count": 2,
   "metadata": {},
   "outputs": [
    {
     "ename": "SyntaxError",
     "evalue": "invalid syntax (<ipython-input-2-cb6cc7edc73e>, line 1)",
     "output_type": "error",
     "traceback": [
      "\u001b[1;36m  File \u001b[1;32m\"<ipython-input-2-cb6cc7edc73e>\"\u001b[1;36m, line \u001b[1;32m1\u001b[0m\n\u001b[1;33m    1 from sys import argv\u001b[0m\n\u001b[1;37m         ^\u001b[0m\n\u001b[1;31mSyntaxError\u001b[0m\u001b[1;31m:\u001b[0m invalid syntax\n"
     ]
    }
   ],
   "source": [
    "1 from sys import argv\n",
    "2 \n",
    "3 script, filename = argv\n",
    "4\n",
    "5 print(f\"We're going to erase {filename}.\")\n",
    "6 print(\"If you don't want that, hit CTRL-C (^C).\") \n",
    "7 print(\"If you do want that, hit RETURN.\")\n",
    "8\n",
    "9 input(\"?\")\n",
    "10 \n",
    "11 print(\"Opening the file...\")\n",
    "12 target = open(filename, 'w')\n",
    "13\n",
    "14 print(\"Truncating the file. Goodbye!\")\n",
    "15 target.truncate()\n",
    "16\n",
    "17 print(\"Now I'm going to ask you for three lines.\")\n",
    "18\n",
    "19 line1 = input(\"line 1: \")\n",
    "20 line2 = input(\"line 2: \")\n",
    "21 line3 = input(\"line 3: \")\n",
    "22\n",
    "23 print(\"I'm going to write these to the file.\")\n",
    "24 \n",
    "25 target.write(line1) \n",
    "26 target.write(\"\\n\") \n",
    "27 target.write(line2)\n",
    "28 target.write(\"\\n\") \n",
    "29 target.write(line3)\n",
    "30 target.write(\"\\n\")\n",
    "31\n",
    "32 print(\"And finally, we close it.\") \n",
    "33 target.close()\n"
   ]
  },
  {
   "cell_type": "markdown",
   "metadata": {},
   "source": []
  },
  {
   "cell_type": "markdown",
   "metadata": {},
   "source": [
    "# exercise 17 - More files\n",
    "\n",
    "In this exercise we are doing the same than the previous exercises, in the first paraghraph specific is a short but is to clear the ideas saw previously.\n",
    "\n",
    "The book explain the \"imported exists\" is used as True or False, if the it exist is true but if does not exist it is False the book said we introduce more in that function in the second part of the book. The import function is to add features to our code and is very usseful because are a line of code easy to get in the internet."
   ]
  },
  {
   "cell_type": "code",
   "execution_count": null,
   "metadata": {},
   "outputs": [],
   "source": [
    "from sys import argv \n",
    "from os.path import exists\n",
    "script, from_file, to_file = argv\n",
    "\n",
    "print(f\"Copying from {from_file} to {to_file}\")\n",
    "# we could do these two on one line, how? \n",
    "in_file = open(from_file) \n",
    "indata = in_file.read()\n",
    "\n",
    "print(f\"The input file is {len(indata)} bytes long\")\n",
    "print(f\"Does the output file exist? {exists(to_file)}\") \n",
    "print(\"Ready, hit RETURN to continue, CTRL-C to abort.\") \n",
    "input()\n",
    "out_file = open(to_file, 'w') \n",
    "out_file.write(indata)\n",
    "print(\"Alright, all done.\")\n",
    "out_file.close() \n",
    "in_file.close()"
   ]
  },
  {
   "cell_type": "markdown",
   "metadata": {},
   "source": [
    "# Exercise number 18 - Names, variables, code, functions\n",
    "\n",
    "In this part the book said that functions of the tittle are very popular and all of the programmers need know whats are or at least have idea that what we can do with that functions. In this exercise we can see some similar characteristics like:\n",
    "\n",
    "*They name pieces of code the way variables name strings and numbers. \n",
    "\n",
    "*They take arguments the way your scripts take argv \n",
    "\n",
    "*Using 1 and 2, they let you make your own ”mini-scripts” or ”tiny commands.”\n",
    "\n",
    "That are the similar characteristcs of that commands. In the exercise the writter use the word \"def\" to create a functions in 4 different functions and after we can see how the result will be similar."
   ]
  },
  {
   "cell_type": "code",
   "execution_count": null,
   "metadata": {},
   "outputs": [],
   "source": [
    " # this one is like your scripts with argv \n",
    "def print_two(*args): \n",
    "    arg1, arg2 = args \n",
    "    print(f\"arg1: {arg1}, arg2: {arg2}\")\n",
    "    \n",
    "# ok, that *args is actually pointless, we can just do this\n",
    "\n",
    "def print_two_again(arg1, arg2):\n",
    "    print(f\"arg1: {arg1}, arg2: {arg2}\")\n",
    "    \n",
    "# this just takes one argument\n",
    "def print_one(arg1):\n",
    "    print(f\"arg1: {arg1}\")\n",
    "# this one takes no arguments \n",
    "def print_none(): \n",
    "    print(\"I got nothin'.\")\n",
    "    \n",
    "\n",
    "print_two(\"Zed\",\"Shaw\") \n",
    "print_two_again(\"Zed\",\"Shaw\") \n",
    "print_one(\"First!\") \n",
    "print_none()"
   ]
  },
  {
   "cell_type": "markdown",
   "metadata": {},
   "source": [
    "# Exercise number 19 -Functions and Variables\n",
    "\n",
    "In this part, the book mention than maybe the information would be a lot for us but we need trying to complete the exercise to eliminate that doubts. Now it tries to explain that exists a point that maybe we don't perceive and it's that the functions and the scripts don't are connected and put one example to clarify that. \n",
    "\n",
    "In the exercise we see as the programs work with the function \"cheese_and_crackers\" in the exercise we can see how in that function we can add a variable or a function would be a math or a variable or inclusive we can combine both. In short words, the exercise explains to us how to use the arguments are similar to \"=\" we can assign variables or math, we can use the function as argument."
   ]
  },
  {
   "cell_type": "code",
   "execution_count": null,
   "metadata": {},
   "outputs": [],
   "source": [
    " def cheese_and_crackers(cheese_count, boxes_of_crackers): \n",
    "        print(f\"You have {cheese_count} cheeses!\") \n",
    "        print(f\"You have {boxes_of_crackers} boxes of crackers!\") \n",
    "        print(\"Man that's enough for a party!\") \n",
    "        print(\"Get a blanket.\\n\")\n",
    "\n",
    "print(\"We can just give the function numbers directly:\") \n",
    "cheese_and_crackers(20, 30)\n",
    "\n",
    "print(\"OR, we can use variables from our script:\") \n",
    "amount_of_cheese = 10 \n",
    "amount_of_crackers = 50\n",
    "cheese_and_crackers(amount_of_cheese, amount_of_crackers)\n",
    "\n",
    "print(\"We can even do math inside too:\") \n",
    "cheese_and_crackers(10 + 20, 5 + 6)\n",
    "\n",
    "print(\"And we can combine the two, variables and math:\") \n",
    "cheese_and_crackers(amount_of_cheese + 100, amount_of_crackers + 1000)\n"
   ]
  },
  {
   "cell_type": "markdown",
   "metadata": {},
   "source": [
    "# Exercise number 20 -Functions and Files\n",
    "\n",
    "This exercise is again to practice the previous and the author told us to watch each line and watch how to function together. And call for our attention every time than we pass a line every when we run a \"print_a_line\" "
   ]
  },
  {
   "cell_type": "code",
   "execution_count": null,
   "metadata": {},
   "outputs": [],
   "source": [
    "from sys import argv\n",
    "2 \n",
    "3script, input_file = argv\n",
    "4 \n",
    "5 def print_all(f): 6 print(f.read())\n",
    "7 \n",
    "8 def rewind(f): 9 f.seek(0)\n",
    "10 \n",
    "11 def print_a_line(line_count, f): 12 print(line_count, f.readline())\n",
    "13 \n",
    "14 current_file = open(input_file)\n",
    "15 \n",
    "16 print(\"First let's print the whole file:\\n\")\n",
    "17 \n",
    "18 print_all(current_file)\n",
    "19 \n",
    "20 print(\"Now let's rewind, kind of like a tape.\")\n",
    "21 \n",
    "22 rewind(current_file)\n",
    "23 \n",
    "24 print(\"Let's print three lines:\")\n",
    "25 \n",
    "26 current_line = 1 27 print_a_line(current_line, current_file)\n",
    "28 \n",
    "29 current_line = current_line + 1 30 print_a_line(current_line, current_file)\n",
    "31 \n",
    "32 current_line = current_line + 1 33 print_a_line(current_line, current_file)\n"
   ]
  },
  {
   "cell_type": "markdown",
   "metadata": {},
   "source": [
    "# Exercise 21 - Functions Can Return Something\n",
    "\n",
    "This exercise is about the \"=\" in all the time when we use the book we are using \"=\" to name characters and variables but now the author do another example of how we can use the \"=\" to return some variable as a function we need put attention to the next code:"
   ]
  },
  {
   "cell_type": "code",
   "execution_count": null,
   "metadata": {},
   "outputs": [],
   "source": [
    "1 \n",
    "def add(a, b): 2 print(f\"ADDING {a} + {b}\") 3 return a + b\n",
    "4 \n",
    "5 def subtract(a, b):\n",
    "    6 print(f\"SUBTRACTING {a} - {b}\") \n",
    "    7 return a - b\n",
    "8 \n",
    "9 def multiply(a, b): \n",
    "    10 print(f\"MULTIPLYING {a} * {b}\") \n",
    "    11 return a * b\n",
    "12 \n",
    "13 def divide(a, b): \n",
    "    14 print(f\"DIVIDING {a} / {b}\") \n",
    "    15 return a / b\n",
    "16\n",
    "17 \n",
    "18 print(\"Let's do some math with just functions!\")\n",
    "19 \n",
    "20 age = add(30, 5) \n",
    "21 height = subtract(78, 4) \n",
    "22 weight = multiply(90, 2) \n",
    "23 iq = divide(100, 2)\n",
    "24 \n",
    "25 print(f\"Age: {age}, Height: {height}, Weight: {weight}, IQ: {iq}\")\n",
    "26\n",
    "27 \n",
    "28 # A puzzle for the extra credit, type it in anyway. \n",
    "29 print(\"Here is a puzzle.\")\n",
    "30 \n",
    "31 what = add(age, subtract(height, multiply(weight, divide(iq, 2))))\n",
    "32 \n",
    "33 print(\"That becomes: \", what, \"Can you do it by hand?\")"
   ]
  },
  {
   "cell_type": "markdown",
   "metadata": {},
   "source": [
    "In the code we do math functions but the special in the code was when we use the return a + b, because a function is called with \"a\" and \"b\", next is print and next the process is doing the same but from back and return the \"a\" and the \"b\" \n",
    "and in the end, we can add the \"a\" and \"b\" that result in a variable. Is a new thing that we need practice or at least is that recommend the author."
   ]
  }
 ],
 "metadata": {
  "kernelspec": {
   "display_name": "Python 3",
   "language": "python",
   "name": "python3"
  },
  "language_info": {
   "codemirror_mode": {
    "name": "ipython",
    "version": 3
   },
   "file_extension": ".py",
   "mimetype": "text/x-python",
   "name": "python",
   "nbconvert_exporter": "python",
   "pygments_lexer": "ipython3",
   "version": "3.7.3"
  }
 },
 "nbformat": 4,
 "nbformat_minor": 2
}
