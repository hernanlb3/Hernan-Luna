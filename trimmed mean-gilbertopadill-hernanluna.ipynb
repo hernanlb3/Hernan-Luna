{
 "cells": [
  {
   "cell_type": "code",
   "execution_count": 1,
   "metadata": {},
   "outputs": [
    {
     "name": "stdout",
     "output_type": "stream",
     "text": [
      "Select the number of the data? 10\n",
      "give the data to trimm: 1\n",
      "give the data to trimm: 20\n",
      "give the data to trimm: 2\n",
      "give the data to trimm: 5\n",
      "give the data to trimm: 4\n",
      "give the data to trimm: 3\n",
      "give the data to trimm: 7\n",
      "give the data to trimm: 4\n",
      "give the data to trimm: 8\n",
      "give the data to trimm: 4\n",
      "the trimmed numbers is: 3\n",
      "select the % that you want to use: 0\n",
      "This is your list in the correct order: [1, 2, 3, 4, 4, 4, 5, 7, 8, 20]\n",
      "This is your trimmed list : [1, 2, 3, 4, 4, 4, 5, 7, 8, 20]\n",
      "this is your sample men:  5.8\n"
     ]
    }
   ],
   "source": [
    "ini=0\n",
    "num = int(input(\"Select the number of the data? \"))\n",
    "table = []\n",
    "total = 0\n",
    "for i in range(0,num):\n",
    "    listnum = int(input(\"give the data to trimm: \"))\n",
    "    table.append(listnum)\n",
    "porce1=int(input(\"the trimmed numbers is: \"))\n",
    "porce2=porce1 * .01 \n",
    "porct= round(num * porce2)\n",
    "\n",
    "if porct <= 0.5:\n",
    "    porct = 0\n",
    "elif porct > 0.5:\n",
    "    porct = round(porct)\n",
    "print (\"select the % that you want to use:\", porct)\n",
    "listrim=sorted(table)\n",
    "print(\"This is your list in the correct order:\",listrim)\n",
    "\n",
    "listrimmed=listrim[porct:num - porct]\n",
    "print(\"This is your trimmed list :\",listrimmed)\n",
    "esumato = sum(listrimmed)\n",
    "lentri = len(listrimmed)\n",
    "resultf = float(esumato/lentri)\n",
    "\n",
    "print(\"this is your sample men: \", resultf)"
   ]
  },
  {
   "cell_type": "code",
   "execution_count": null,
   "metadata": {},
   "outputs": [],
   "source": []
  }
 ],
 "metadata": {
  "kernelspec": {
   "display_name": "Python 3",
   "language": "python",
   "name": "python3"
  },
  "language_info": {
   "codemirror_mode": {
    "name": "ipython",
    "version": 3
   },
   "file_extension": ".py",
   "mimetype": "text/x-python",
   "name": "python",
   "nbconvert_exporter": "python",
   "pygments_lexer": "ipython3",
   "version": "3.7.3"
  }
 },
 "nbformat": 4,
 "nbformat_minor": 2
}
