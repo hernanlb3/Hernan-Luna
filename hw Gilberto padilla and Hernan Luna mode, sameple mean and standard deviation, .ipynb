{
 "cells": [
  {
   "cell_type": "code",
   "execution_count": 11,
   "metadata": {},
   "outputs": [
    {
     "name": "stdout",
     "output_type": "stream",
     "text": [
      "give the number of the data? 5\n",
      "> Enter the data:  1\n",
      "4\n",
      "> Enter the data:  2\n",
      "12\n",
      "> Enter the data:  3\n",
      "2\n",
      "> Enter the data:  4\n",
      "2\n",
      "> Enter the data:  5\n",
      "3\n",
      "if you want sample mean press (1), if you want mode press (2) if you want Standard Deviation (3): \n",
      "> 2\n",
      "your mode :  2\n"
     ]
    }
   ],
   "source": [
    "import math\n",
    "\n",
    "calc = int(input(\"give the number of the data? \"))\n",
    "table = []\n",
    "suma = 0\n",
    "dat2 = calc\n",
    "prom = calc\n",
    "edc = 1\n",
    "sum2 = 0\n",
    "sqa = 0\n",
    "inv1 = 1\n",
    "result = 0\n",
    "\n",
    "while calc >= 1:\n",
    "\n",
    "    print(\"> Enter the data: \" ,edc)\n",
    "    table2 = int(input())\n",
    "    table.append(table2)\n",
    "    edc = edc + 1 \n",
    "    calc = calc - 1 \n",
    "    sum2 = sum2 + table[suma] \n",
    "    suma = suma + 1 \n",
    "\n",
    "porc = sum2 / prom ## Promedio\n",
    "\n",
    "while dat2 >= 1:\n",
    "    sqa = sqa + (table[inv1-1] - porc) ** 2\n",
    "    dat2 = dat2 - 1\n",
    "    inv1 = inv1 + 1\n",
    "\n",
    "eme = sqa / prom\n",
    "stand = math.sqrt(eme)\n",
    "mode=Counter(table).most_common()[0][0]\n",
    "\n",
    "\n",
    "print(\"if you want sample mean press (1), if you want mode press (2) if you want Standard Deviation (3): \")\n",
    "while result == 0:\n",
    "    o = int(input(\"> \"))\n",
    "    if o == 1:\n",
    "        print(\"sample mean: \" , porc)\n",
    "        result = 1\n",
    "    elif o == 2:\n",
    "        print(\"your mode : \" , mode)\n",
    "        result = 1\n",
    "    elif o == 3:\n",
    "        print(\"your standart deviation: \" , stand)\n",
    "        result = 1\n",
    "    else:\n",
    "        print(\"> you can do it again! \")\n",
    "        result = 0\n"
   ]
  },
  {
   "cell_type": "markdown",
   "metadata": {},
   "source": [
    "## 2\n",
    "## "
   ]
  },
  {
   "cell_type": "code",
   "execution_count": null,
   "metadata": {},
   "outputs": [],
   "source": []
  }
 ],
 "metadata": {
  "kernelspec": {
   "display_name": "Python 3",
   "language": "python",
   "name": "python3"
  },
  "language_info": {
   "codemirror_mode": {
    "name": "ipython",
    "version": 3
   },
   "file_extension": ".py",
   "mimetype": "text/x-python",
   "name": "python",
   "nbconvert_exporter": "python",
   "pygments_lexer": "ipython3",
   "version": "3.7.3"
  }
 },
 "nbformat": 4,
 "nbformat_minor": 2
}
